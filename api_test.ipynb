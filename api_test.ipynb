{
 "cells": [
  {
   "cell_type": "code",
   "execution_count": 11,
   "id": "3faaea5d",
   "metadata": {
    "ExecuteTime": {
     "end_time": "2023-09-14T14:22:01.670645200Z",
     "start_time": "2023-09-14T14:22:01.551587800Z"
    }
   },
   "outputs": [],
   "source": [
    "from sleeper_wrapper import League\n",
    "\n",
    "league = League('918363762489450496')\n"
   ]
  },
  {
   "cell_type": "code",
   "execution_count": 13,
   "outputs": [
    {
     "name": "stdout",
     "output_type": "stream",
     "text": [
      "Hello! How can I assist you today?\n"
     ]
    }
   ],
   "source": [
    "completion = openai.ChatCompletion.create(model=\"gpt-3.5-turbo\", messages=[{\"role\": \"user\", \"content\": \"Hello world\"}])\n",
    "print(completion.choices[0].message.content)"
   ],
   "metadata": {
    "collapsed": false,
    "ExecuteTime": {
     "end_time": "2023-09-14T14:23:31.440185500Z",
     "start_time": "2023-09-14T14:23:30.529161200Z"
    }
   },
   "id": "6132ee0eb91541af"
  },
  {
   "cell_type": "code",
   "execution_count": 9,
   "id": "dd545a74",
   "metadata": {
    "ExecuteTime": {
     "end_time": "2023-09-13T21:18:49.917034600Z",
     "start_time": "2023-09-13T21:18:49.598722700Z"
    }
   },
   "outputs": [],
   "source": [
    "d_users = league.get_users()\n",
    "users = {}\n",
    "for r in d_users:\n",
    "    users[r['user_id']] = {'user_id': r['user_id'], 'name': r['display_name']}"
   ]
  },
  {
   "cell_type": "code",
   "execution_count": 10,
   "id": "2f75788a",
   "metadata": {
    "ExecuteTime": {
     "end_time": "2023-09-13T21:18:50.177436900Z",
     "start_time": "2023-09-13T21:18:50.169967400Z"
    }
   },
   "outputs": [
    {
     "data": {
      "text/plain": "{'95259455910199296': {'user_id': '95259455910199296', 'name': 'Deign'},\n '413881572480000000': {'user_id': '413881572480000000', 'name': 'anushm'},\n '467082184046407680': {'user_id': '467082184046407680', 'name': 'tejas'},\n '467082433204842496': {'user_id': '467082433204842496', 'name': 'snethi'},\n '467082675589476352': {'user_id': '467082675589476352', 'name': 'rbada'},\n '467416275337867264': {'user_id': '467416275337867264', 'name': 'vish3418'},\n '467974784802615296': {'user_id': '467974784802615296',\n  'name': 'psychomaragiri'},\n '470020787244363776': {'user_id': '470020787244363776', 'name': 'preraku'},\n '471181259578535936': {'user_id': '471181259578535936', 'name': 'shwanrat'},\n '730218826838429696': {'user_id': '730218826838429696', 'name': 'JCH4'},\n '730543392060231680': {'user_id': '730543392060231680', 'name': 'suprith'},\n '733202403196780544': {'user_id': '733202403196780544', 'name': 'Shang_Chi'}}"
     },
     "execution_count": 10,
     "metadata": {},
     "output_type": "execute_result"
    }
   ],
   "source": [
    "users"
   ]
  },
  {
   "cell_type": "code",
   "execution_count": 11,
   "id": "41072fd7",
   "metadata": {
    "ExecuteTime": {
     "end_time": "2023-09-13T21:19:03.546162800Z",
     "start_time": "2023-09-13T21:19:03.400038Z"
    }
   },
   "outputs": [],
   "source": [
    "p = league.get_rosters()\n",
    "week = 0\n",
    "roster = []\n",
    "new_user = {}\n",
    "for i, x in enumerate(p):\n",
    "    oID = x['owner_id']\n",
    "    rec = users[oID]\n",
    "    rec['roster_id'] = i + 1\n",
    "    rec['wins'] = x['settings']['wins']\n",
    "    rec['losses'] = x['settings']['losses']\n",
    "    points = int(x['settings']['fpts']) + (int(x['settings']['fpts_decimal']) / 100)\n",
    "    pa = int(x['settings']['fpts_against']) + (int(x['settings']['fpts_against_decimal']) / 100)\n",
    "    rec['pf'] = points\n",
    "    rec['pa'] = pa\n",
    "    roster.append(rec['name'])\n",
    "    week = rec['wins'] + rec['losses']\n",
    "    if not week == 0:\n",
    "        rec['avg_pf'] = points / float(week)\n",
    "        rec['avg_pa'] = pa / float(week)\n",
    "    else:\n",
    "        rec['avg_pf'] = 0\n",
    "        rec['avg_pa'] = 0\n",
    "        \n",
    "    new_user[rec['roster_id']] = rec"
   ]
  },
  {
   "cell_type": "code",
   "execution_count": 12,
   "id": "40f56853",
   "metadata": {
    "ExecuteTime": {
     "end_time": "2023-09-13T21:19:06.150978300Z",
     "start_time": "2023-09-13T21:19:06.142414100Z"
    }
   },
   "outputs": [
    {
     "data": {
      "text/plain": "['anushm',\n 'psychomaragiri',\n 'tejas',\n 'rbada',\n 'Deign',\n 'snethi',\n 'shwanrat',\n 'preraku',\n 'suprith',\n 'JCH4',\n 'Shang_Chi',\n 'vish3418']"
     },
     "execution_count": 12,
     "metadata": {},
     "output_type": "execute_result"
    }
   ],
   "source": [
    "roster"
   ]
  },
  {
   "cell_type": "code",
   "execution_count": 13,
   "id": "35ff99bf",
   "metadata": {
    "scrolled": true,
    "ExecuteTime": {
     "end_time": "2023-09-13T21:19:08.594549200Z",
     "start_time": "2023-09-13T21:19:08.586600Z"
    }
   },
   "outputs": [
    {
     "data": {
      "text/plain": "{1: {'user_id': '413881572480000000',\n  'name': 'anushm',\n  'roster_id': 1,\n  'wins': 0,\n  'losses': 1,\n  'pf': 64.32,\n  'pa': 84.44,\n  'avg_pf': 64.32,\n  'avg_pa': 84.44},\n 2: {'user_id': '467974784802615296',\n  'name': 'psychomaragiri',\n  'roster_id': 2,\n  'wins': 0,\n  'losses': 1,\n  'pf': 69.9,\n  'pa': 87.14,\n  'avg_pf': 69.9,\n  'avg_pa': 87.14},\n 3: {'user_id': '467082184046407680',\n  'name': 'tejas',\n  'roster_id': 3,\n  'wins': 0,\n  'losses': 1,\n  'pf': 53.18,\n  'pa': 90.62,\n  'avg_pf': 53.18,\n  'avg_pa': 90.62},\n 4: {'user_id': '467082675589476352',\n  'name': 'rbada',\n  'roster_id': 4,\n  'wins': 1,\n  'losses': 0,\n  'pf': 84.44,\n  'pa': 64.32,\n  'avg_pf': 84.44,\n  'avg_pa': 64.32},\n 5: {'user_id': '95259455910199296',\n  'name': 'Deign',\n  'roster_id': 5,\n  'wins': 0,\n  'losses': 1,\n  'pf': 68.7,\n  'pa': 96.46,\n  'avg_pf': 68.7,\n  'avg_pa': 96.46},\n 6: {'user_id': '467082433204842496',\n  'name': 'snethi',\n  'roster_id': 6,\n  'wins': 1,\n  'losses': 0,\n  'pf': 74.54,\n  'pa': 59.62,\n  'avg_pf': 74.54,\n  'avg_pa': 59.62},\n 7: {'user_id': '471181259578535936',\n  'name': 'shwanrat',\n  'roster_id': 7,\n  'wins': 1,\n  'losses': 0,\n  'pf': 96.46,\n  'pa': 68.7,\n  'avg_pf': 96.46,\n  'avg_pa': 68.7},\n 8: {'user_id': '470020787244363776',\n  'name': 'preraku',\n  'roster_id': 8,\n  'wins': 1,\n  'losses': 0,\n  'pf': 87.14,\n  'pa': 69.9,\n  'avg_pf': 87.14,\n  'avg_pa': 69.9},\n 9: {'user_id': '730543392060231680',\n  'name': 'suprith',\n  'roster_id': 9,\n  'wins': 0,\n  'losses': 1,\n  'pf': 59.62,\n  'pa': 74.54,\n  'avg_pf': 59.62,\n  'avg_pa': 74.54},\n 10: {'user_id': '730218826838429696',\n  'name': 'JCH4',\n  'roster_id': 10,\n  'wins': 1,\n  'losses': 0,\n  'pf': 90.62,\n  'pa': 53.18,\n  'avg_pf': 90.62,\n  'avg_pa': 53.18},\n 11: {'user_id': '733202403196780544',\n  'name': 'Shang_Chi',\n  'roster_id': 11,\n  'wins': 1,\n  'losses': 0,\n  'pf': 131.64,\n  'pa': 61.7,\n  'avg_pf': 131.64,\n  'avg_pa': 61.7},\n 12: {'user_id': '467416275337867264',\n  'name': 'vish3418',\n  'roster_id': 12,\n  'wins': 0,\n  'losses': 1,\n  'pf': 61.7,\n  'pa': 131.64,\n  'avg_pf': 61.7,\n  'avg_pa': 131.64}}"
     },
     "execution_count": 13,
     "metadata": {},
     "output_type": "execute_result"
    }
   ],
   "source": [
    "new_user"
   ]
  },
  {
   "cell_type": "code",
   "execution_count": 71,
   "id": "cfc6b5b4",
   "metadata": {
    "scrolled": true,
    "ExecuteTime": {
     "end_time": "2023-09-13T22:07:32.544174300Z",
     "start_time": "2023-09-13T22:07:32.539386500Z"
    }
   },
   "outputs": [],
   "source": [
    "from collections import defaultdict\n",
    "import pandas as pd\n",
    "\n",
    "roster_conversions = ['Mattapalli', 'Komee', 'Idate', 'Bada', 'Digby', 'Nethi', 'Rattan', 'Upadhyaya', 'Aireddy', 'Hansen', 'Le', 'Pandya']\n",
    "\n",
    "def get_matchups(week: int) -> (defaultdict, pd.DataFrame):\n",
    "    all_matchups = league.get_matchups(week)\n",
    "    matchups = defaultdict(list)\n",
    "    ranks = []\n",
    "    for matchup in all_matchups:\n",
    "        matchup_id = matchup['matchup_id']\n",
    "        matchups[matchup_id].append((matchup['roster_id'], matchup['points']))\n",
    "        ranks.append([matchup['roster_id'], matchup['points']])\n",
    "        \n",
    "    ranks_df = pd.DataFrame(ranks, columns=['Id', 'Score']).sort_values(by='Score', ascending=False).set_index('Id')\n",
    "    ranks_df['Rank'] = range(1, 13)\n",
    "    return matchups, ranks_df\n",
    "    \n",
    "def get_scores(week: int) -> list:\n",
    "    matchups, ranks = get_matchups(week)\n",
    "    df = []\n",
    "    for j in matchups.values():\n",
    "        roster_id1 = j[0][0]\n",
    "        roster_id2 = j[1][0]\n",
    "        one_score = j[0][1]\n",
    "        two_score = j[1][1]\n",
    "        one_diff = round(one_score - two_score, 2)\n",
    "        two_diff = round(two_score - one_score, 2)\n",
    "        df.append([2023, roster_conversions[roster_id1-1], week, 1 if one_score > two_score else 0, one_score, two_score, roster_conversions[roster_id2-1], one_diff, ranks.loc[roster_id1, 'Rank']])\n",
    "        df.append([2023, roster_conversions[roster_id2-1], week, 1 if one_score < two_score else 0, two_score, one_score, roster_conversions[roster_id1-1], two_diff, ranks.loc[roster_id2, 'Rank']])\n",
    "        \n",
    "    return df\n"
   ]
  },
  {
   "cell_type": "code",
   "execution_count": 72,
   "outputs": [
    {
     "data": {
      "text/plain": "[[2023, 'Mattapalli', 1, 0, 64.32, 84.44, 'Bada', -20.12, 9],\n [2023, 'Bada', 1, 1, 84.44, 64.32, 'Mattapalli', 20.12, 5],\n [2023, 'Komee', 1, 0, 69.9, 87.14, 'Upadhyaya', -17.24, 7],\n [2023, 'Upadhyaya', 1, 1, 87.14, 69.9, 'Komee', 17.24, 4],\n [2023, 'Idate', 1, 0, 53.18, 90.62, 'Hansen', -37.44, 12],\n [2023, 'Hansen', 1, 1, 90.62, 53.18, 'Idate', 37.44, 3],\n [2023, 'Digby', 1, 0, 68.7, 96.46, 'Rattan', -27.76, 8],\n [2023, 'Rattan', 1, 1, 96.46, 68.7, 'Digby', 27.76, 2],\n [2023, 'Nethi', 1, 1, 74.54, 59.62, 'Aireddy', 14.92, 6],\n [2023, 'Aireddy', 1, 0, 59.62, 74.54, 'Nethi', -14.92, 11],\n [2023, 'Le', 1, 1, 131.64, 61.7, 'Pandya', 69.94, 1],\n [2023, 'Pandya', 1, 0, 61.7, 131.64, 'Le', -69.94, 10]]"
     },
     "execution_count": 72,
     "metadata": {},
     "output_type": "execute_result"
    }
   ],
   "source": [
    "get_scores(1)"
   ],
   "metadata": {
    "collapsed": false,
    "ExecuteTime": {
     "end_time": "2023-09-13T22:07:33.702681800Z",
     "start_time": "2023-09-13T22:07:33.545024900Z"
    }
   },
   "id": "27901dd836fcab46"
  },
  {
   "cell_type": "code",
   "execution_count": null,
   "outputs": [],
   "source": [],
   "metadata": {
    "collapsed": false
   },
   "id": "5ccc629ba315fbc1"
  }
 ],
 "metadata": {
  "kernelspec": {
   "name": "python3",
   "language": "python",
   "display_name": "Python 3 (ipykernel)"
  },
  "language_info": {
   "codemirror_mode": {
    "name": "ipython",
    "version": 3
   },
   "file_extension": ".py",
   "mimetype": "text/x-python",
   "name": "python",
   "nbconvert_exporter": "python",
   "pygments_lexer": "ipython3",
   "version": "3.9.7"
  }
 },
 "nbformat": 4,
 "nbformat_minor": 5
}
