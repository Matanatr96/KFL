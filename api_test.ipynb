{
 "cells": [
  {
   "cell_type": "code",
   "execution_count": 1,
   "id": "3faaea5d",
   "metadata": {},
   "outputs": [],
   "source": [
    "from sleeper_wrapper import League\n",
    "from sleeper_wrapper import Stats\n",
    "\n",
    "league = League('732312711840550912')"
   ]
  },
  {
   "cell_type": "code",
   "execution_count": 2,
   "id": "dd545a74",
   "metadata": {},
   "outputs": [],
   "source": [
    "d_users = league.get_users()\n",
    "users = {}\n",
    "for r in d_users:\n",
    "    users[r['user_id']] = {'user_id': r['user_id'], 'name': r['display_name']}"
   ]
  },
  {
   "cell_type": "code",
   "execution_count": 3,
   "id": "2f75788a",
   "metadata": {},
   "outputs": [
    {
     "data": {
      "text/plain": [
       "{'95259455910199296': {'user_id': '95259455910199296', 'name': 'Deign'},\n",
       " '413881572480000000': {'user_id': '413881572480000000', 'name': 'anushm'},\n",
       " '467082184046407680': {'user_id': '467082184046407680', 'name': 'tejas'},\n",
       " '467082433204842496': {'user_id': '467082433204842496', 'name': 'snethi'},\n",
       " '467082675589476352': {'user_id': '467082675589476352', 'name': 'rbada'},\n",
       " '467416275337867264': {'user_id': '467416275337867264', 'name': 'vish3418'},\n",
       " '467974784802615296': {'user_id': '467974784802615296',\n",
       "  'name': 'psychomaragiri'},\n",
       " '470020787244363776': {'user_id': '470020787244363776', 'name': 'preraku'},\n",
       " '471181259578535936': {'user_id': '471181259578535936', 'name': 'shwanrat'},\n",
       " '730218826838429696': {'user_id': '730218826838429696', 'name': 'JCH4'},\n",
       " '730543392060231680': {'user_id': '730543392060231680', 'name': 'suups'},\n",
       " '733202403196780544': {'user_id': '733202403196780544', 'name': 'Shang_Chi'}}"
      ]
     },
     "execution_count": 3,
     "metadata": {},
     "output_type": "execute_result"
    }
   ],
   "source": [
    "users"
   ]
  },
  {
   "cell_type": "code",
   "execution_count": 26,
   "id": "41072fd7",
   "metadata": {},
   "outputs": [],
   "source": [
    "p = league.get_rosters()\n",
    "week = 0\n",
    "roster = []\n",
    "new_user = {}\n",
    "for i, x in enumerate(p):\n",
    "    oID = x['owner_id']\n",
    "    rec = users[oID]\n",
    "    rec['roster_id'] = i + 1\n",
    "    rec['wins'] = x['settings']['wins']\n",
    "    rec['losses'] = x['settings']['losses']\n",
    "    points = int(x['settings']['fpts']) + (int(x['settings']['fpts_decimal']) / 100)\n",
    "    pa = int(x['settings']['fpts_against']) + (int(x['settings']['fpts_against_decimal']) / 100)\n",
    "    rec['pf'] = points\n",
    "    rec['pa'] = pa\n",
    "    roster.append(rec['name'])\n",
    "    week = rec['wins'] + rec['losses']\n",
    "    if not week == 0:\n",
    "        rec['avg_pf'] = points / float(week)\n",
    "        rec['avg_pa'] = pa / float(week)\n",
    "    else:\n",
    "        rec['avg_pf'] = 0\n",
    "        rec['avg_pa'] = 0\n",
    "        \n",
    "    new_user[rec['roster_id']] = rec"
   ]
  },
  {
   "cell_type": "code",
   "execution_count": 16,
   "id": "40f56853",
   "metadata": {},
   "outputs": [
    {
     "data": {
      "text/plain": [
       "['anushm',\n",
       " 'psychomaragiri',\n",
       " 'tejas',\n",
       " 'rbada',\n",
       " 'Deign',\n",
       " 'snethi',\n",
       " 'shwanrat',\n",
       " 'preraku',\n",
       " 'suups',\n",
       " 'JCH4',\n",
       " 'Shang_Chi',\n",
       " 'vish3418']"
      ]
     },
     "execution_count": 16,
     "metadata": {},
     "output_type": "execute_result"
    }
   ],
   "source": [
    "roster"
   ]
  },
  {
   "cell_type": "code",
   "execution_count": 27,
   "id": "35ff99bf",
   "metadata": {
    "scrolled": true
   },
   "outputs": [
    {
     "data": {
      "text/plain": [
       "{1: {'user_id': '413881572480000000',\n",
       "  'name': 'anushm',\n",
       "  'roster_id': 1,\n",
       "  'wins': 4,\n",
       "  'losses': 7,\n",
       "  'pf': 968.34,\n",
       "  'pa': 1025.9,\n",
       "  'avg_pf': 88.03090909090909,\n",
       "  'avg_pa': 93.26363636363637},\n",
       " 2: {'user_id': '467974784802615296',\n",
       "  'name': 'psychomaragiri',\n",
       "  'roster_id': 2,\n",
       "  'wins': 5,\n",
       "  'losses': 6,\n",
       "  'pf': 1130.32,\n",
       "  'pa': 1120.99,\n",
       "  'avg_pf': 102.75636363636363,\n",
       "  'avg_pa': 101.90818181818182},\n",
       " 3: {'user_id': '467082184046407680',\n",
       "  'name': 'tejas',\n",
       "  'roster_id': 3,\n",
       "  'wins': 4,\n",
       "  'losses': 7,\n",
       "  'pf': 1075.7,\n",
       "  'pa': 1133.56,\n",
       "  'avg_pf': 97.7909090909091,\n",
       "  'avg_pa': 103.05090909090909},\n",
       " 4: {'user_id': '467082675589476352',\n",
       "  'name': 'rbada',\n",
       "  'roster_id': 4,\n",
       "  'wins': 7,\n",
       "  'losses': 4,\n",
       "  'pf': 1210.1,\n",
       "  'pa': 992.86,\n",
       "  'avg_pf': 110.0090909090909,\n",
       "  'avg_pa': 90.26},\n",
       " 5: {'user_id': '95259455910199296',\n",
       "  'name': 'Deign',\n",
       "  'roster_id': 5,\n",
       "  'wins': 9,\n",
       "  'losses': 2,\n",
       "  'pf': 1131.74,\n",
       "  'pa': 1049.72,\n",
       "  'avg_pf': 102.88545454545455,\n",
       "  'avg_pa': 95.42909090909092},\n",
       " 6: {'user_id': '467082433204842496',\n",
       "  'name': 'snethi',\n",
       "  'roster_id': 6,\n",
       "  'wins': 5,\n",
       "  'losses': 6,\n",
       "  'pf': 1012.78,\n",
       "  'pa': 1027.98,\n",
       "  'avg_pf': 92.07090909090908,\n",
       "  'avg_pa': 93.45272727272727},\n",
       " 7: {'user_id': '471181259578535936',\n",
       "  'name': 'shwanrat',\n",
       "  'roster_id': 7,\n",
       "  'wins': 6,\n",
       "  'losses': 5,\n",
       "  'pf': 1205.2,\n",
       "  'pa': 1111.26,\n",
       "  'avg_pf': 109.56363636363636,\n",
       "  'avg_pa': 101.02363636363636},\n",
       " 8: {'user_id': '470020787244363776',\n",
       "  'name': 'preraku',\n",
       "  'roster_id': 8,\n",
       "  'wins': 9,\n",
       "  'losses': 2,\n",
       "  'pf': 1018.72,\n",
       "  'pa': 989.44,\n",
       "  'avg_pf': 92.61090909090909,\n",
       "  'avg_pa': 89.94909090909091},\n",
       " 9: {'user_id': '730543392060231680',\n",
       "  'name': 'suups',\n",
       "  'roster_id': 9,\n",
       "  'wins': 5,\n",
       "  'losses': 6,\n",
       "  'pf': 1127.74,\n",
       "  'pa': 1176.22,\n",
       "  'avg_pf': 102.52181818181818,\n",
       "  'avg_pa': 106.92909090909092},\n",
       " 10: {'user_id': '730218826838429696',\n",
       "  'name': 'JCH4',\n",
       "  'roster_id': 10,\n",
       "  'wins': 5,\n",
       "  'losses': 6,\n",
       "  'pf': 1040.2,\n",
       "  'pa': 1113.32,\n",
       "  'avg_pf': 94.56363636363636,\n",
       "  'avg_pa': 101.21090909090908},\n",
       " 11: {'user_id': '733202403196780544',\n",
       "  'name': 'Shang_Chi',\n",
       "  'roster_id': 11,\n",
       "  'wins': 4,\n",
       "  'losses': 7,\n",
       "  'pf': 1066.6,\n",
       "  'pa': 1148.7,\n",
       "  'avg_pf': 96.96363636363635,\n",
       "  'avg_pa': 104.42727272727274},\n",
       " 12: {'user_id': '467416275337867264',\n",
       "  'name': 'vish3418',\n",
       "  'roster_id': 12,\n",
       "  'wins': 3,\n",
       "  'losses': 8,\n",
       "  'pf': 1116.64,\n",
       "  'pa': 1214.12,\n",
       "  'avg_pf': 101.51272727272728,\n",
       "  'avg_pa': 110.37454545454544}}"
      ]
     },
     "execution_count": 27,
     "metadata": {},
     "output_type": "execute_result"
    }
   ],
   "source": [
    "new_user"
   ]
  },
  {
   "cell_type": "code",
   "execution_count": 43,
   "id": "cfc6b5b4",
   "metadata": {
    "scrolled": true
   },
   "outputs": [],
   "source": [
    "matchup_dict = {}\n",
    "\n",
    "for i in range(1,17):\n",
    "    m = league.get_matchups(i)\n",
    "\n",
    "    matchups = {}\n",
    "    for k in m:\n",
    "        matchup_id = k['matchup_id']\n",
    "        if matchup_id in matchups.keys():\n",
    "            matchups[matchup_id].append((k['roster_id'], k['points']))\n",
    "        else:\n",
    "            matchups[matchup_id] = [(k['roster_id'], k['points'])]\n",
    "            \n",
    "    new = {}\n",
    "    for j in matchups.values():\n",
    "        roster_id1 = j[0][0]\n",
    "        roster_id2 = j[1][0]\n",
    "        one_score = j[0][1]\n",
    "        two_score = j[1][1]\n",
    "        one_diff = one_score - two_score\n",
    "        two_diff = two_score - one_score\n",
    "        \n",
    "        new[roster_id1] = {\n",
    "            'opp_id': roster_id2,\n",
    "            'score': one_score,\n",
    "            'opp_score': two_score,\n",
    "            'diff': one_diff,\n",
    "            'win': 1 if one_score > two_score else 0\n",
    "        }\n",
    "        \n",
    "        new[roster_id2] = {\n",
    "            'opp_id': roster_id1,\n",
    "            'score': two_score,\n",
    "            'opp_score': one_score,\n",
    "            'diff': two_diff,\n",
    "            'win': 1 if one_score > two_score else 0\n",
    "        }\n",
    "\n",
    "        \n",
    "    matchup_dict[i] = new"
   ]
  },
  {
   "cell_type": "code",
   "execution_count": 44,
   "id": "73e81ca6",
   "metadata": {},
   "outputs": [
    {
     "name": "stdout",
     "output_type": "stream",
     "text": [
      "{1: {1: {'opp_id': 6, 'score': 106.66, 'opp_score': 92.76, 'diff': 13.899999999999991, 'win': 1}, 6: {'opp_id': 1, 'score': 92.76, 'opp_score': 106.66, 'diff': -13.899999999999991, 'win': 1}, 2: {'opp_id': 3, 'score': 137.36, 'opp_score': 104.48, 'diff': 32.88000000000001, 'win': 1}, 3: {'opp_id': 2, 'score': 104.48, 'opp_score': 137.36, 'diff': -32.88000000000001, 'win': 1}, 4: {'opp_id': 12, 'score': 133.98, 'opp_score': 96.12, 'diff': 37.859999999999985, 'win': 1}, 12: {'opp_id': 4, 'score': 96.12, 'opp_score': 133.98, 'diff': -37.859999999999985, 'win': 1}, 5: {'opp_id': 8, 'score': 103.56, 'opp_score': 103.78, 'diff': -0.21999999999999886, 'win': 0}, 8: {'opp_id': 5, 'score': 103.78, 'opp_score': 103.56, 'diff': 0.21999999999999886, 'win': 0}, 7: {'opp_id': 11, 'score': 107.8, 'opp_score': 78.0, 'diff': 29.799999999999997, 'win': 1}, 11: {'opp_id': 7, 'score': 78.0, 'opp_score': 107.8, 'diff': -29.799999999999997, 'win': 1}, 9: {'opp_id': 10, 'score': 132.78, 'opp_score': 107.16, 'diff': 25.620000000000005, 'win': 1}, 10: {'opp_id': 9, 'score': 107.16, 'opp_score': 132.78, 'diff': -25.620000000000005, 'win': 1}}, 2: {1: {'opp_id': 12, 'score': 120.7, 'opp_score': 100.5, 'diff': 20.200000000000003, 'win': 1}, 12: {'opp_id': 1, 'score': 100.5, 'opp_score': 120.7, 'diff': -20.200000000000003, 'win': 1}, 2: {'opp_id': 5, 'score': 97.24, 'opp_score': 106.2, 'diff': -8.960000000000008, 'win': 0}, 5: {'opp_id': 2, 'score': 106.2, 'opp_score': 97.24, 'diff': 8.960000000000008, 'win': 0}, 3: {'opp_id': 8, 'score': 77.58, 'opp_score': 83.62, 'diff': -6.040000000000006, 'win': 0}, 8: {'opp_id': 3, 'score': 83.62, 'opp_score': 77.58, 'diff': 6.040000000000006, 'win': 0}, 4: {'opp_id': 6, 'score': 151.92, 'opp_score': 81.78, 'diff': 70.13999999999999, 'win': 1}, 6: {'opp_id': 4, 'score': 81.78, 'opp_score': 151.92, 'diff': -70.13999999999999, 'win': 1}, 7: {'opp_id': 9, 'score': 163.76, 'opp_score': 69.42, 'diff': 94.33999999999999, 'win': 1}, 9: {'opp_id': 7, 'score': 69.42, 'opp_score': 163.76, 'diff': -94.33999999999999, 'win': 1}, 10: {'opp_id': 11, 'score': 112.12, 'opp_score': 80.16, 'diff': 31.960000000000008, 'win': 1}, 11: {'opp_id': 10, 'score': 80.16, 'opp_score': 112.12, 'diff': -31.960000000000008, 'win': 1}}, 3: {1: {'opp_id': 4, 'score': 55.74, 'opp_score': 107.3, 'diff': -51.559999999999995, 'win': 0}, 4: {'opp_id': 1, 'score': 107.3, 'opp_score': 55.74, 'diff': 51.559999999999995, 'win': 0}, 2: {'opp_id': 8, 'score': 90.58, 'opp_score': 97.96, 'diff': -7.3799999999999955, 'win': 0}, 8: {'opp_id': 2, 'score': 97.96, 'opp_score': 90.58, 'diff': 7.3799999999999955, 'win': 0}, 3: {'opp_id': 5, 'score': 93.58, 'opp_score': 99.54, 'diff': -5.960000000000008, 'win': 0}, 5: {'opp_id': 3, 'score': 99.54, 'opp_score': 93.58, 'diff': 5.960000000000008, 'win': 0}, 6: {'opp_id': 12, 'score': 105.72, 'opp_score': 75.04, 'diff': 30.679999999999993, 'win': 1}, 12: {'opp_id': 6, 'score': 75.04, 'opp_score': 105.72, 'diff': -30.679999999999993, 'win': 1}, 7: {'opp_id': 10, 'score': 97.18, 'opp_score': 97.42, 'diff': -0.23999999999999488, 'win': 0}, 10: {'opp_id': 7, 'score': 97.42, 'opp_score': 97.18, 'diff': 0.23999999999999488, 'win': 0}, 9: {'opp_id': 11, 'score': 114.24, 'opp_score': 136.42, 'diff': -22.179999999999993, 'win': 0}, 11: {'opp_id': 9, 'score': 136.42, 'opp_score': 114.24, 'diff': 22.179999999999993, 'win': 0}}, 4: {1: {'opp_id': 11, 'score': 86.42, 'opp_score': 81.72, 'diff': 4.700000000000003, 'win': 1}, 11: {'opp_id': 1, 'score': 81.72, 'opp_score': 86.42, 'diff': -4.700000000000003, 'win': 1}, 2: {'opp_id': 10, 'score': 127.96, 'opp_score': 89.76, 'diff': 38.19999999999999, 'win': 1}, 10: {'opp_id': 2, 'score': 89.76, 'opp_score': 127.96, 'diff': -38.19999999999999, 'win': 1}, 3: {'opp_id': 9, 'score': 83.82, 'opp_score': 115.48, 'diff': -31.66000000000001, 'win': 0}, 9: {'opp_id': 3, 'score': 115.48, 'opp_score': 83.82, 'diff': 31.66000000000001, 'win': 0}, 4: {'opp_id': 8, 'score': 115.22, 'opp_score': 68.72, 'diff': 46.5, 'win': 1}, 8: {'opp_id': 4, 'score': 68.72, 'opp_score': 115.22, 'diff': -46.5, 'win': 1}, 5: {'opp_id': 12, 'score': 115.98, 'opp_score': 94.32, 'diff': 21.66000000000001, 'win': 1}, 12: {'opp_id': 5, 'score': 94.32, 'opp_score': 115.98, 'diff': -21.66000000000001, 'win': 1}, 6: {'opp_id': 7, 'score': 118.82, 'opp_score': 120.64, 'diff': -1.8200000000000074, 'win': 0}, 7: {'opp_id': 6, 'score': 120.64, 'opp_score': 118.82, 'diff': 1.8200000000000074, 'win': 0}}, 5: {1: {'opp_id': 7, 'score': 102.66, 'opp_score': 133.78, 'diff': -31.120000000000005, 'win': 0}, 7: {'opp_id': 1, 'score': 133.78, 'opp_score': 102.66, 'diff': 31.120000000000005, 'win': 0}, 2: {'opp_id': 9, 'score': 100.5, 'opp_score': 113.62, 'diff': -13.120000000000005, 'win': 0}, 9: {'opp_id': 2, 'score': 113.62, 'opp_score': 100.5, 'diff': 13.120000000000005, 'win': 0}, 3: {'opp_id': 10, 'score': 136.28, 'opp_score': 104.68, 'diff': 31.599999999999994, 'win': 1}, 10: {'opp_id': 3, 'score': 104.68, 'opp_score': 136.28, 'diff': -31.599999999999994, 'win': 1}, 4: {'opp_id': 5, 'score': 128.58, 'opp_score': 92.12, 'diff': 36.46000000000001, 'win': 1}, 5: {'opp_id': 4, 'score': 92.12, 'opp_score': 128.58, 'diff': -36.46000000000001, 'win': 1}, 6: {'opp_id': 11, 'score': 112.48, 'opp_score': 156.3, 'diff': -43.82000000000001, 'win': 0}, 11: {'opp_id': 6, 'score': 156.3, 'opp_score': 112.48, 'diff': 43.82000000000001, 'win': 0}, 8: {'opp_id': 12, 'score': 112.4, 'opp_score': 111.16, 'diff': 1.240000000000009, 'win': 1}, 12: {'opp_id': 8, 'score': 111.16, 'opp_score': 112.4, 'diff': -1.240000000000009, 'win': 1}}, 6: {1: {'opp_id': 10, 'score': 85.16, 'opp_score': 102.98, 'diff': -17.820000000000007, 'win': 0}, 10: {'opp_id': 1, 'score': 102.98, 'opp_score': 85.16, 'diff': 17.820000000000007, 'win': 0}, 2: {'opp_id': 12, 'score': 103.98, 'opp_score': 147.6, 'diff': -43.61999999999999, 'win': 0}, 12: {'opp_id': 2, 'score': 147.6, 'opp_score': 103.98, 'diff': 43.61999999999999, 'win': 0}, 3: {'opp_id': 4, 'score': 106.54, 'opp_score': 150.58, 'diff': -44.040000000000006, 'win': 0}, 4: {'opp_id': 3, 'score': 150.58, 'opp_score': 106.54, 'diff': 44.040000000000006, 'win': 0}, 5: {'opp_id': 11, 'score': 125.3, 'opp_score': 91.72, 'diff': 33.58, 'win': 1}, 11: {'opp_id': 5, 'score': 91.72, 'opp_score': 125.3, 'diff': -33.58, 'win': 1}, 6: {'opp_id': 9, 'score': 80.0, 'opp_score': 54.4, 'diff': 25.6, 'win': 1}, 9: {'opp_id': 6, 'score': 54.4, 'opp_score': 80.0, 'diff': -25.6, 'win': 1}, 7: {'opp_id': 8, 'score': 97.58, 'opp_score': 111.52, 'diff': -13.939999999999998, 'win': 0}, 8: {'opp_id': 7, 'score': 111.52, 'opp_score': 97.58, 'diff': 13.939999999999998, 'win': 0}}, 7: {1: {'opp_id': 9, 'score': 115.04, 'opp_score': 73.64, 'diff': 41.400000000000006, 'win': 1}, 9: {'opp_id': 1, 'score': 73.64, 'opp_score': 115.04, 'diff': -41.400000000000006, 'win': 1}, 2: {'opp_id': 4, 'score': 96.76, 'opp_score': 88.74, 'diff': 8.02000000000001, 'win': 1}, 4: {'opp_id': 2, 'score': 88.74, 'opp_score': 96.76, 'diff': -8.02000000000001, 'win': 1}, 3: {'opp_id': 12, 'score': 133.74, 'opp_score': 83.76, 'diff': 49.980000000000004, 'win': 1}, 12: {'opp_id': 3, 'score': 83.76, 'opp_score': 133.74, 'diff': -49.980000000000004, 'win': 1}, 5: {'opp_id': 7, 'score': 117.14, 'opp_score': 88.88, 'diff': 28.260000000000005, 'win': 1}, 7: {'opp_id': 5, 'score': 88.88, 'opp_score': 117.14, 'diff': -28.260000000000005, 'win': 1}, 6: {'opp_id': 10, 'score': 97.54, 'opp_score': 78.48, 'diff': 19.060000000000002, 'win': 1}, 10: {'opp_id': 6, 'score': 78.48, 'opp_score': 97.54, 'diff': -19.060000000000002, 'win': 1}, 8: {'opp_id': 11, 'score': 90.78, 'opp_score': 84.66, 'diff': 6.1200000000000045, 'win': 1}, 11: {'opp_id': 8, 'score': 84.66, 'opp_score': 90.78, 'diff': -6.1200000000000045, 'win': 1}}, 8: {1: {'opp_id': 5, 'score': 71.72, 'opp_score': 73.72, 'diff': -2.0, 'win': 0}, 5: {'opp_id': 1, 'score': 73.72, 'opp_score': 71.72, 'diff': 2.0, 'win': 0}, 2: {'opp_id': 11, 'score': 121.2, 'opp_score': 131.76, 'diff': -10.559999999999988, 'win': 0}, 11: {'opp_id': 2, 'score': 131.76, 'opp_score': 121.2, 'diff': 10.559999999999988, 'win': 0}, 3: {'opp_id': 7, 'score': 108.56, 'opp_score': 110.18, 'diff': -1.6200000000000045, 'win': 0}, 7: {'opp_id': 3, 'score': 110.18, 'opp_score': 108.56, 'diff': 1.6200000000000045, 'win': 0}, 4: {'opp_id': 9, 'score': 65.0, 'opp_score': 124.82, 'diff': -59.81999999999999, 'win': 0}, 9: {'opp_id': 4, 'score': 124.82, 'opp_score': 65.0, 'diff': 59.81999999999999, 'win': 0}, 6: {'opp_id': 8, 'score': 59.62, 'opp_score': 55.66, 'diff': 3.960000000000001, 'win': 1}, 8: {'opp_id': 6, 'score': 55.66, 'opp_score': 59.62, 'diff': -3.960000000000001, 'win': 1}, 10: {'opp_id': 12, 'score': 89.36, 'opp_score': 85.76, 'diff': 3.5999999999999943, 'win': 1}, 12: {'opp_id': 10, 'score': 85.76, 'opp_score': 89.36, 'diff': -3.5999999999999943, 'win': 1}}, 9: {1: {'opp_id': 8, 'score': 83.1, 'opp_score': 94.58, 'diff': -11.480000000000004, 'win': 0}, 8: {'opp_id': 1, 'score': 94.58, 'opp_score': 83.1, 'diff': 11.480000000000004, 'win': 0}, 2: {'opp_id': 7, 'score': 71.86, 'opp_score': 94.34, 'diff': -22.480000000000004, 'win': 0}, 7: {'opp_id': 2, 'score': 94.34, 'opp_score': 71.86, 'diff': 22.480000000000004, 'win': 0}, 3: {'opp_id': 11, 'score': 96.68, 'opp_score': 63.76, 'diff': 32.92000000000001, 'win': 1}, 11: {'opp_id': 3, 'score': 63.76, 'opp_score': 96.68, 'diff': -32.92000000000001, 'win': 1}, 4: {'opp_id': 10, 'score': 75.34, 'opp_score': 84.62, 'diff': -9.280000000000001, 'win': 0}, 10: {'opp_id': 4, 'score': 84.62, 'opp_score': 75.34, 'diff': 9.280000000000001, 'win': 0}, 5: {'opp_id': 6, 'score': 76.48, 'opp_score': 73.78, 'diff': 2.700000000000003, 'win': 1}, 6: {'opp_id': 5, 'score': 73.78, 'opp_score': 76.48, 'diff': -2.700000000000003, 'win': 1}, 9: {'opp_id': 12, 'score': 130.74, 'opp_score': 98.28, 'diff': 32.46000000000001, 'win': 1}, 12: {'opp_id': 9, 'score': 98.28, 'opp_score': 130.74, 'diff': -32.46000000000001, 'win': 1}}, 10: {1: {'opp_id': 2, 'score': 57.88, 'opp_score': 74.9, 'diff': -17.020000000000003, 'win': 0}, 2: {'opp_id': 1, 'score': 74.9, 'opp_score': 57.88, 'diff': 17.020000000000003, 'win': 0}, 3: {'opp_id': 6, 'score': 44.42, 'opp_score': 101.34, 'diff': -56.92, 'win': 0}, 6: {'opp_id': 3, 'score': 101.34, 'opp_score': 44.42, 'diff': 56.92, 'win': 0}, 4: {'opp_id': 7, 'score': 117.64, 'opp_score': 103.58, 'diff': 14.060000000000002, 'win': 1}, 7: {'opp_id': 4, 'score': 103.58, 'opp_score': 117.64, 'diff': -14.060000000000002, 'win': 1}, 5: {'opp_id': 10, 'score': 90.02, 'opp_score': 88.04, 'diff': 1.9799999999999898, 'win': 1}, 10: {'opp_id': 5, 'score': 88.04, 'opp_score': 90.02, 'diff': -1.9799999999999898, 'win': 1}, 8: {'opp_id': 9, 'score': 94.56, 'opp_score': 80.8, 'diff': 13.760000000000005, 'win': 1}, 9: {'opp_id': 8, 'score': 80.8, 'opp_score': 94.56, 'diff': -13.760000000000005, 'win': 1}, 11: {'opp_id': 12, 'score': 80.04, 'opp_score': 105.88, 'diff': -25.83999999999999, 'win': 0}, 12: {'opp_id': 11, 'score': 105.88, 'opp_score': 80.04, 'diff': 25.83999999999999, 'win': 0}}, 11: {1: {'opp_id': 3, 'score': 83.26, 'opp_score': 90.02, 'diff': -6.759999999999991, 'win': 0}, 3: {'opp_id': 1, 'score': 90.02, 'opp_score': 83.26, 'diff': 6.759999999999991, 'win': 0}, 2: {'opp_id': 6, 'score': 107.98, 'opp_score': 88.94, 'diff': 19.040000000000006, 'win': 1}, 6: {'opp_id': 2, 'score': 88.94, 'opp_score': 107.98, 'diff': -19.040000000000006, 'win': 1}, 4: {'opp_id': 11, 'score': 75.8, 'opp_score': 82.06, 'diff': -6.260000000000005, 'win': 0}, 11: {'opp_id': 4, 'score': 82.06, 'opp_score': 75.8, 'diff': 6.260000000000005, 'win': 0}, 5: {'opp_id': 9, 'score': 131.68, 'opp_score': 118.08, 'diff': 13.600000000000009, 'win': 1}, 9: {'opp_id': 5, 'score': 118.08, 'opp_score': 131.68, 'diff': -13.600000000000009, 'win': 1}, 7: {'opp_id': 12, 'score': 87.48, 'opp_score': 118.22, 'diff': -30.739999999999995, 'win': 0}, 12: {'opp_id': 7, 'score': 118.22, 'opp_score': 87.48, 'diff': 30.739999999999995, 'win': 0}, 8: {'opp_id': 10, 'score': 105.14, 'opp_score': 85.58, 'diff': 19.560000000000002, 'win': 1}, 10: {'opp_id': 8, 'score': 85.58, 'opp_score': 105.14, 'diff': -19.560000000000002, 'win': 1}}, 12: {1: {'opp_id': 6, 'score': 94.88, 'opp_score': 114.8, 'diff': -19.92, 'win': 0}, 6: {'opp_id': 1, 'score': 114.8, 'opp_score': 94.88, 'diff': 19.92, 'win': 0}, 2: {'opp_id': 3, 'score': 100.64, 'opp_score': 52.8, 'diff': 47.84, 'win': 1}, 3: {'opp_id': 2, 'score': 52.8, 'opp_score': 100.64, 'diff': -47.84, 'win': 1}, 4: {'opp_id': 12, 'score': 85.4, 'opp_score': 106.98, 'diff': -21.58, 'win': 0}, 12: {'opp_id': 4, 'score': 106.98, 'opp_score': 85.4, 'diff': 21.58, 'win': 0}, 5: {'opp_id': 8, 'score': 83.52, 'opp_score': 104.12, 'diff': -20.60000000000001, 'win': 0}, 8: {'opp_id': 5, 'score': 104.12, 'opp_score': 83.52, 'diff': 20.60000000000001, 'win': 0}, 7: {'opp_id': 11, 'score': 115.2, 'opp_score': 75.9, 'diff': 39.3, 'win': 1}, 11: {'opp_id': 7, 'score': 75.9, 'opp_score': 115.2, 'diff': -39.3, 'win': 1}, 9: {'opp_id': 10, 'score': 63.22, 'opp_score': 107.42, 'diff': -44.2, 'win': 0}, 10: {'opp_id': 9, 'score': 107.42, 'opp_score': 63.22, 'diff': 44.2, 'win': 0}}, 13: {1: {'opp_id': 12, 'score': 0.0, 'opp_score': 0.0, 'diff': 0.0, 'win': 0}, 12: {'opp_id': 1, 'score': 0.0, 'opp_score': 0.0, 'diff': 0.0, 'win': 0}, 2: {'opp_id': 5, 'score': 0.0, 'opp_score': 0.0, 'diff': 0.0, 'win': 0}, 5: {'opp_id': 2, 'score': 0.0, 'opp_score': 0.0, 'diff': 0.0, 'win': 0}, 3: {'opp_id': 8, 'score': 0.0, 'opp_score': 0.0, 'diff': 0.0, 'win': 0}, 8: {'opp_id': 3, 'score': 0.0, 'opp_score': 0.0, 'diff': 0.0, 'win': 0}, 4: {'opp_id': 6, 'score': 0.0, 'opp_score': 0.0, 'diff': 0.0, 'win': 0}, 6: {'opp_id': 4, 'score': 0.0, 'opp_score': 0.0, 'diff': 0.0, 'win': 0}, 7: {'opp_id': 9, 'score': 0.0, 'opp_score': 0.0, 'diff': 0.0, 'win': 0}, 9: {'opp_id': 7, 'score': 0.0, 'opp_score': 0.0, 'diff': 0.0, 'win': 0}, 10: {'opp_id': 11, 'score': 0.0, 'opp_score': 0.0, 'diff': 0.0, 'win': 0}, 11: {'opp_id': 10, 'score': 0.0, 'opp_score': 0.0, 'diff': 0.0, 'win': 0}}, 14: {1: {'opp_id': 4, 'score': 0.0, 'opp_score': 0.0, 'diff': 0.0, 'win': 0}, 4: {'opp_id': 1, 'score': 0.0, 'opp_score': 0.0, 'diff': 0.0, 'win': 0}, 2: {'opp_id': 8, 'score': 0.0, 'opp_score': 0.0, 'diff': 0.0, 'win': 0}, 8: {'opp_id': 2, 'score': 0.0, 'opp_score': 0.0, 'diff': 0.0, 'win': 0}, 3: {'opp_id': 5, 'score': 0.0, 'opp_score': 0.0, 'diff': 0.0, 'win': 0}, 5: {'opp_id': 3, 'score': 0.0, 'opp_score': 0.0, 'diff': 0.0, 'win': 0}, 6: {'opp_id': 12, 'score': 0.0, 'opp_score': 0.0, 'diff': 0.0, 'win': 0}, 12: {'opp_id': 6, 'score': 0.0, 'opp_score': 0.0, 'diff': 0.0, 'win': 0}, 7: {'opp_id': 10, 'score': 0.0, 'opp_score': 0.0, 'diff': 0.0, 'win': 0}, 10: {'opp_id': 7, 'score': 0.0, 'opp_score': 0.0, 'diff': 0.0, 'win': 0}, 9: {'opp_id': 11, 'score': 0.0, 'opp_score': 0.0, 'diff': 0.0, 'win': 0}, 11: {'opp_id': 9, 'score': 0.0, 'opp_score': 0.0, 'diff': 0.0, 'win': 0}}, 15: {1: {'opp_id': 11, 'score': 0.0, 'opp_score': 0.0, 'diff': 0.0, 'win': 0}, 11: {'opp_id': 1, 'score': 0.0, 'opp_score': 0.0, 'diff': 0.0, 'win': 0}, 2: {'opp_id': 10, 'score': 0.0, 'opp_score': 0.0, 'diff': 0.0, 'win': 0}, 10: {'opp_id': 2, 'score': 0.0, 'opp_score': 0.0, 'diff': 0.0, 'win': 0}, 3: {'opp_id': 9, 'score': 0.0, 'opp_score': 0.0, 'diff': 0.0, 'win': 0}, 9: {'opp_id': 3, 'score': 0.0, 'opp_score': 0.0, 'diff': 0.0, 'win': 0}, 4: {'opp_id': 8, 'score': 0.0, 'opp_score': 0.0, 'diff': 0.0, 'win': 0}, 8: {'opp_id': 4, 'score': 0.0, 'opp_score': 0.0, 'diff': 0.0, 'win': 0}, 5: {'opp_id': 12, 'score': 0.0, 'opp_score': 0.0, 'diff': 0.0, 'win': 0}, 12: {'opp_id': 5, 'score': 0.0, 'opp_score': 0.0, 'diff': 0.0, 'win': 0}, 6: {'opp_id': 7, 'score': 0.0, 'opp_score': 0.0, 'diff': 0.0, 'win': 0}, 7: {'opp_id': 6, 'score': 0.0, 'opp_score': 0.0, 'diff': 0.0, 'win': 0}}, 16: {1: {'opp_id': 7, 'score': 0.0, 'opp_score': 0.0, 'diff': 0.0, 'win': 0}, 7: {'opp_id': 1, 'score': 0.0, 'opp_score': 0.0, 'diff': 0.0, 'win': 0}, 2: {'opp_id': 9, 'score': 0.0, 'opp_score': 0.0, 'diff': 0.0, 'win': 0}, 9: {'opp_id': 2, 'score': 0.0, 'opp_score': 0.0, 'diff': 0.0, 'win': 0}, 3: {'opp_id': 10, 'score': 0.0, 'opp_score': 0.0, 'diff': 0.0, 'win': 0}, 10: {'opp_id': 3, 'score': 0.0, 'opp_score': 0.0, 'diff': 0.0, 'win': 0}, 4: {'opp_id': 5, 'score': 0.0, 'opp_score': 0.0, 'diff': 0.0, 'win': 0}, 5: {'opp_id': 4, 'score': 0.0, 'opp_score': 0.0, 'diff': 0.0, 'win': 0}, 6: {'opp_id': 11, 'score': 0.0, 'opp_score': 0.0, 'diff': 0.0, 'win': 0}, 11: {'opp_id': 6, 'score': 0.0, 'opp_score': 0.0, 'diff': 0.0, 'win': 0}, 8: {'opp_id': 12, 'score': 0.0, 'opp_score': 0.0, 'diff': 0.0, 'win': 0}, 12: {'opp_id': 8, 'score': 0.0, 'opp_score': 0.0, 'diff': 0.0, 'win': 0}}}\n"
     ]
    }
   ],
   "source": [
    "print(matchup_dict)"
   ]
  },
  {
   "cell_type": "code",
   "execution_count": null,
   "id": "3b90b84f",
   "metadata": {},
   "outputs": [],
   "source": [
    "m = league.get_matchups(16)\n",
    "print(m)"
   ]
  },
  {
   "cell_type": "code",
   "execution_count": null,
   "id": "0959917e",
   "metadata": {},
   "outputs": [],
   "source": [
    "matchups"
   ]
  },
  {
   "cell_type": "code",
   "execution_count": null,
   "id": "194e74fd",
   "metadata": {
    "scrolled": false
   },
   "outputs": [],
   "source": [
    "p"
   ]
  },
  {
   "cell_type": "code",
   "execution_count": null,
   "id": "3239ec0e",
   "metadata": {},
   "outputs": [],
   "source": []
  }
 ],
 "metadata": {
  "kernelspec": {
   "display_name": "Python [conda env:KFL] *",
   "language": "python",
   "name": "conda-env-KFL-py"
  },
  "language_info": {
   "codemirror_mode": {
    "name": "ipython",
    "version": 3
   },
   "file_extension": ".py",
   "mimetype": "text/x-python",
   "name": "python",
   "nbconvert_exporter": "python",
   "pygments_lexer": "ipython3",
   "version": "3.9.7"
  }
 },
 "nbformat": 4,
 "nbformat_minor": 5
}
